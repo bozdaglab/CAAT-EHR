{
 "cells": [
  {
   "cell_type": "markdown",
   "id": "fce56425",
   "metadata": {},
   "source": [
    "# Import necessary libs"
   ]
  },
  {
   "cell_type": "code",
   "execution_count": null,
   "id": "0605fe52",
   "metadata": {},
   "outputs": [],
   "source": [
    "import numpy as np\n",
    "import pandas as pd\n",
    "from pandas import read_csv\n",
    "import pickle\n",
    "from tensorflow.keras.models import load_model"
   ]
  },
  {
   "cell_type": "markdown",
   "id": "f62097c5",
   "metadata": {},
   "source": [
    "# Load the encoder model"
   ]
  },
  {
   "cell_type": "code",
   "execution_count": null,
   "id": "316ee2d8",
   "metadata": {},
   "outputs": [],
   "source": [
    "#from Untitled import CustomMasking  # Import the custom layer\n",
    "\n",
    "encoder_model = load_model('transformer_encoder.keras')"
   ]
  },
  {
   "cell_type": "markdown",
   "id": "e2fb981c",
   "metadata": {},
   "source": [
    "# Retrieve the data"
   ]
  },
  {
   "cell_type": "code",
   "execution_count": null,
   "id": "6f8a6d31",
   "metadata": {},
   "outputs": [],
   "source": [
    "# unpikle data\n",
    "file_name = 'external_modal1.pkl'\n",
    "modal1 = pd.read_pickle(file_name)\n",
    "\n",
    "file_name = 'external_modal2.pkl'\n",
    "modal2 = pd.read_pickle(file_name)"
   ]
  },
  {
   "cell_type": "markdown",
   "id": "8638a97a",
   "metadata": {},
   "source": [
    "# Get the embedding of raw data"
   ]
  },
  {
   "cell_type": "code",
   "execution_count": null,
   "id": "e13cfc4c",
   "metadata": {},
   "outputs": [],
   "source": [
    "def get_embedding(encoder, input_a, input_b,  padding_value=-50):\n",
    "    # Predict embeddings using the encoder\n",
    "    embeddings = encoder.predict([input_a, input_b])\n",
    "    \n",
    "    # Identify non-padded parts in the inputs\n",
    "    mask_a = np.any(input_a != padding_value, axis=-1)\n",
    "    mask_b = np.any(input_b != padding_value, axis=-1)\n",
    "    combined_mask = np.logical_and(mask_a, mask_b)\n",
    "\n",
    "    embeddings[~combined_mask] = padding_value\n",
    "    \n",
    "    return embeddings"
   ]
  },
  {
   "cell_type": "code",
   "execution_count": null,
   "id": "c47b11ec",
   "metadata": {},
   "outputs": [],
   "source": [
    "embeddings = get_embedding(encoder_model, modal1, modal2)"
   ]
  },
  {
   "cell_type": "code",
   "execution_count": null,
   "id": "055bac3f",
   "metadata": {},
   "outputs": [],
   "source": [
    "embeddings.shape"
   ]
  },
  {
   "cell_type": "markdown",
   "id": "ccb53c07",
   "metadata": {},
   "source": [
    "# Save new data"
   ]
  },
  {
   "cell_type": "code",
   "execution_count": null,
   "id": "dabbaf7e",
   "metadata": {},
   "outputs": [],
   "source": [
    "# Save dictionary as a pickle file\n",
    "file_name = 'X_embedding.pkl'\n",
    "with open(file_name, 'wb') as file:\n",
    "    pickle.dump(embeddings, file)"
   ]
  },
  {
   "cell_type": "code",
   "execution_count": null,
   "id": "2b068a18",
   "metadata": {},
   "outputs": [],
   "source": []
  }
 ],
 "metadata": {
  "kernelspec": {
   "display_name": "Python [conda env:miniconda3]",
   "language": "python",
   "name": "conda-env-miniconda3-py"
  },
  "language_info": {
   "codemirror_mode": {
    "name": "ipython",
    "version": 3
   },
   "file_extension": ".py",
   "mimetype": "text/x-python",
   "name": "python",
   "nbconvert_exporter": "python",
   "pygments_lexer": "ipython3",
   "version": "3.10.9"
  }
 },
 "nbformat": 4,
 "nbformat_minor": 5
}
